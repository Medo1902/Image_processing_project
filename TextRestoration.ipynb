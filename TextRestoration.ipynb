{
 "cells": [
  {
   "cell_type": "code",
   "execution_count": 1,
   "id": "740d822a",
   "metadata": {},
   "outputs": [
    {
     "ename": "ValueError",
     "evalue": "Image at path sometext.png could not be loaded.",
     "output_type": "error",
     "traceback": [
      "\u001b[1;31m---------------------------------------------------------------------------\u001b[0m",
      "\u001b[1;31mValueError\u001b[0m                                Traceback (most recent call last)",
      "Input \u001b[1;32mIn [1]\u001b[0m, in \u001b[0;36m<cell line: 44>\u001b[1;34m()\u001b[0m\n\u001b[0;32m     42\u001b[0m \u001b[38;5;66;03m# Load the image\u001b[39;00m\n\u001b[0;32m     43\u001b[0m image_path \u001b[38;5;241m=\u001b[39m \u001b[38;5;124m'\u001b[39m\u001b[38;5;124msometext.png\u001b[39m\u001b[38;5;124m'\u001b[39m\n\u001b[1;32m---> 44\u001b[0m original_image \u001b[38;5;241m=\u001b[39m \u001b[43mload_image\u001b[49m\u001b[43m(\u001b[49m\u001b[43mimage_path\u001b[49m\u001b[43m)\u001b[49m\n\u001b[0;32m     46\u001b[0m \u001b[38;5;66;03m# Apply the restoration functions to the image\u001b[39;00m\n\u001b[0;32m     47\u001b[0m deconvolved_image \u001b[38;5;241m=\u001b[39m apply_deconvolution(original_image)\n",
      "Input \u001b[1;32mIn [1]\u001b[0m, in \u001b[0;36mload_image\u001b[1;34m(image_path)\u001b[0m\n\u001b[0;32m      9\u001b[0m image \u001b[38;5;241m=\u001b[39m cv2\u001b[38;5;241m.\u001b[39mimread(image_path, cv2\u001b[38;5;241m.\u001b[39mIMREAD_GRAYSCALE)\n\u001b[0;32m     10\u001b[0m \u001b[38;5;28;01mif\u001b[39;00m image \u001b[38;5;129;01mis\u001b[39;00m \u001b[38;5;28;01mNone\u001b[39;00m:\n\u001b[1;32m---> 11\u001b[0m     \u001b[38;5;28;01mraise\u001b[39;00m \u001b[38;5;167;01mValueError\u001b[39;00m(\u001b[38;5;124mf\u001b[39m\u001b[38;5;124m\"\u001b[39m\u001b[38;5;124mImage at path \u001b[39m\u001b[38;5;132;01m{\u001b[39;00mimage_path\u001b[38;5;132;01m}\u001b[39;00m\u001b[38;5;124m could not be loaded.\u001b[39m\u001b[38;5;124m\"\u001b[39m)\n\u001b[0;32m     12\u001b[0m \u001b[38;5;28;01mreturn\u001b[39;00m image\n",
      "\u001b[1;31mValueError\u001b[0m: Image at path sometext.png could not be loaded."
     ]
    }
   ],
   "source": [
    "import cv2\n",
    "import numpy as np\n",
    "import matplotlib.pyplot as plt\n",
    "\n",
    "# Define functions for each step of the restoration process\n",
    "\n",
    "def load_image(image_path):\n",
    "    # Load the image in grayscale\n",
    "    image = cv2.imread(image_path, cv2.IMREAD_GRAYSCALE)\n",
    "    if image is None:\n",
    "        raise ValueError(f\"Image at path {image_path} could not be loaded.\")\n",
    "    return image\n",
    "\n",
    "def apply_deconvolution(image, kernel_size=(5, 5)):\n",
    "    # Assuming motion blur, create a motion blur kernel\n",
    "    kernel_motion_blur = np.zeros(kernel_size)\n",
    "    kernel_motion_blur[int((kernel_size[0] - 1) / 2), :] = np.ones(kernel_size[1])\n",
    "    kernel_motion_blur /= kernel_size[1]\n",
    "    # Deconvolution\n",
    "    deconvolved_img = cv2.filter2D(image, -1, kernel_motion_blur)\n",
    "    return deconvolved_img\n",
    "\n",
    "def apply_unsharp_mask(image, strength=1.5, kernel_size=(5, 5)):\n",
    "    # Blurring the image\n",
    "    blurred = cv2.GaussianBlur(image, kernel_size, 0)\n",
    "    # Sharpening the image\n",
    "    sharpened = cv2.addWeighted(image, 1 + strength, blurred, -strength, 0)\n",
    "    return sharpened\n",
    "\n",
    "def adjust_contrast(image, clip_limit=2.0, tile_grid_size=(8, 8)):\n",
    "    # Creating a CLAHE object\n",
    "    clahe = cv2.createCLAHE(clipLimit=clip_limit, tileGridSize=tile_grid_size)\n",
    "    # Applying CLAHE\n",
    "    contrast_enhanced = clahe.apply(image)\n",
    "    return contrast_enhanced\n",
    "\n",
    "def apply_denoise(image):\n",
    "    # Applying Non-local Means Denoising\n",
    "    denoised_img = cv2.fastNlMeansDenoising(image, None, h=30, templateWindowSize=7, searchWindowSize=21)\n",
    "    return denoised_img\n",
    "\n",
    "# Load the image\n",
    "image_path = 'sometext.png'\n",
    "original_image = load_image(image_path)\n",
    "\n",
    "# Apply the restoration functions to the image\n",
    "deconvolved_image = apply_deconvolution(original_image)\n",
    "sharpened_image = apply_unsharp_mask(deconvolved_image)\n",
    "contrast_image = adjust_contrast(sharpened_image)\n",
    "restored_image = apply_denoise(contrast_image)\n",
    "\n",
    "# Display the original and the restored image\n",
    "fig, axs = plt.subplots(1, 2, figsize=(10, 5))\n",
    "\n",
    "axs[0].imshow(original_image, cmap='gray')\n",
    "axs[0].set_title('Original Image')\n",
    "axs[0].axis('off')\n",
    "\n",
    "axs[1].imshow(restored_image, cmap='gray')\n",
    "axs[1].set_title('Restored Image')\n",
    "axs[1].axis('off')\n",
    "\n",
    "plt.show()\n",
    "\n",
    "# Save the restored image\n",
    "restored_image_path = 'restored_image.png'\n",
    "cv2.imwrite(restored_image_path, restored_image)\n",
    "\n",
    "restored_image_path\n"
   ]
  },
  {
   "cell_type": "code",
   "execution_count": null,
   "id": "ada0afa7",
   "metadata": {},
   "outputs": [],
   "source": [
    "\n"
   ]
  },
  {
   "cell_type": "code",
   "execution_count": null,
   "id": "c704191b",
   "metadata": {},
   "outputs": [],
   "source": []
  },
  {
   "cell_type": "code",
   "execution_count": null,
   "id": "66e94819",
   "metadata": {},
   "outputs": [],
   "source": []
  },
  {
   "cell_type": "code",
   "execution_count": null,
   "id": "946ed7a1",
   "metadata": {},
   "outputs": [],
   "source": []
  },
  {
   "cell_type": "code",
   "execution_count": null,
   "id": "e0c57626",
   "metadata": {},
   "outputs": [],
   "source": []
  }
 ],
 "metadata": {
  "kernelspec": {
   "display_name": "Python 3 (ipykernel)",
   "language": "python",
   "name": "python3"
  },
  "language_info": {
   "codemirror_mode": {
    "name": "ipython",
    "version": 3
   },
   "file_extension": ".py",
   "mimetype": "text/x-python",
   "name": "python",
   "nbconvert_exporter": "python",
   "pygments_lexer": "ipython3",
   "version": "3.9.12"
  }
 },
 "nbformat": 4,
 "nbformat_minor": 5
}
