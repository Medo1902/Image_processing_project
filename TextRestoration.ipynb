{
 "cells": [
  {
   "cell_type": "code",
   "execution_count": 3,
   "id": "740d822a",
   "metadata": {},
   "outputs": [
    {
     "ename": "SyntaxError",
     "evalue": "(unicode error) 'unicodeescape' codec can't decode bytes in position 2-3: truncated \\UXXXXXXXX escape (1627370273.py, line 6)",
     "output_type": "error",
     "traceback": [
      "\u001b[1;36m  Input \u001b[1;32mIn [3]\u001b[1;36m\u001b[0m\n\u001b[1;33m    image_path = 'C:\\Users\\dcojo\\OneDrive - Technological University Dublin\\Desktop\\4th year\\ImageProcessing\\Project\\sometext.png'\u001b[0m\n\u001b[1;37m                                                                                                                                  ^\u001b[0m\n\u001b[1;31mSyntaxError\u001b[0m\u001b[1;31m:\u001b[0m (unicode error) 'unicodeescape' codec can't decode bytes in position 2-3: truncated \\UXXXXXXXX escape\n"
     ]
    }
   ],
   "source": [
    "import cv2\n",
    "import numpy as np\n",
    "import matplotlib.pyplot as plt\n",
    "\n",
    "# Load the image from the file system\n",
    "image_path = 'sometext.png'\n",
    "original_image = cv2.imread(image_path, cv2.IMREAD_GRAYSCALE)\n",
    "\n",
    "# Function to apply deconvolution with a given kernel size\n",
    "def deconvolution(image, kernel_size=(5, 5)):\n",
    "    # Create a motion blur kernel\n",
    "    kernel_motion_blur = np.zeros(kernel_size)\n",
    "    kernel_motion_blur[int((kernel_size[0] - 1) / 2), :] = np.ones(kernel_size[1])\n",
    "    kernel_motion_blur = kernel_motion_blur / kernel_size[1]\n",
    "    \n",
    "    # Apply deconvolution using Wiener filter\n",
    "    deconvolved_image = cv2.filter2D(image, -1, kernel_motion_blur)\n",
    "    return deconvolved_image\n",
    "\n",
    "# Function to apply unsharp masking for edge enhancement\n",
    "def unsharp_masking(image, strength=1.5, kernel_size=(5, 5)):\n",
    "    # Create a Gaussian blur of the image\n",
    "    gaussian_blurred = cv2.GaussianBlur(image, kernel_size, 0)\n",
    "    \n",
    "    # Enhance edges by subtracting the blurred image from the original\n",
    "    sharpened = cv2.addWeighted(image, 1.0 + strength, gaussian_blurred, -strength, 0)\n",
    "    return sharpened\n",
    "\n",
    "# Function to adjust contrast of the image\n",
    "def adjust_contrast(image, clip_limit=2.0, tile_grid_size=(8, 8)):\n",
    "    # Create a CLAHE object\n",
    "    clahe = cv2.createCLAHE(clipLimit=clip_limit, tileGridSize=tile_grid_size)\n",
    "    \n",
    "    # Apply CLAHE to the image\n",
    "    contrast_enhanced = clahe.apply(image)\n",
    "    return contrast_enhanced\n",
    "\n",
    "# Apply the restoration functions to the image\n",
    "deconvolved = deconvolution(original_image)\n",
    "sharpened = unsharp_masking(deconvolved)\n",
    "final_image = adjust_contrast(sharpened)\n",
    "\n",
    "# Display the original and processed images\n",
    "fig, axs = plt.subplots(1, 3, figsize=(20, 10))\n",
    "\n",
    "axs[0].imshow(original_image, cmap='gray')\n",
    "axs[0].set_title('Original Image')\n",
    "axs[0].axis('off')\n",
    "\n",
    "axs[1].imshow(deconvolved, cmap='gray')\n",
    "axs[1].set_title('After Deconvolution')\n",
    "axs[1].axis('off')\n",
    "\n",
    "axs[2].imshow(final_image, cmap='gray')\n",
    "axs[2].set_title('After Unsharp Masking and Contrast Adjustment')\n",
    "axs[2].axis('off')\n",
    "\n",
    "plt.show()\n",
    "\n",
    "# Save the final restored image to the file system\n",
    "output_image_path = 'C:\\Users\\dcojo\\OneDrive - Technological University Dublin\\Desktop\\4th year\\ImageProcessing\\Project\\restored.png'\n",
    "\n",
    "cv2.imwrite(output_image_path, final_image)\n",
    "output_image_path\n"
   ]
  },
  {
   "cell_type": "code",
   "execution_count": null,
   "id": "ada0afa7",
   "metadata": {},
   "outputs": [],
   "source": [
    "\n"
   ]
  },
  {
   "cell_type": "code",
   "execution_count": null,
   "id": "c704191b",
   "metadata": {},
   "outputs": [],
   "source": []
  },
  {
   "cell_type": "code",
   "execution_count": null,
   "id": "66e94819",
   "metadata": {},
   "outputs": [],
   "source": []
  },
  {
   "cell_type": "code",
   "execution_count": null,
   "id": "946ed7a1",
   "metadata": {},
   "outputs": [],
   "source": []
  },
  {
   "cell_type": "code",
   "execution_count": null,
   "id": "e0c57626",
   "metadata": {},
   "outputs": [],
   "source": []
  }
 ],
 "metadata": {
  "kernelspec": {
   "display_name": "Python 3 (ipykernel)",
   "language": "python",
   "name": "python3"
  },
  "language_info": {
   "codemirror_mode": {
    "name": "ipython",
    "version": 3
   },
   "file_extension": ".py",
   "mimetype": "text/x-python",
   "name": "python",
   "nbconvert_exporter": "python",
   "pygments_lexer": "ipython3",
   "version": "3.9.12"
  }
 },
 "nbformat": 4,
 "nbformat_minor": 5
}
