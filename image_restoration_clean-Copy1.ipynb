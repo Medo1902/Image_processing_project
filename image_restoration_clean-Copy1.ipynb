{
 "cells": [
  {
   "cell_type": "code",
   "execution_count": 1,
   "metadata": {},
   "outputs": [],
   "source": [
    "# Imports\n",
    "import cv2\n",
    "import numpy as np\n",
    "from matplotlib import pyplot as plt\n",
    "from matplotlib import image as image\n",
    "import easygui"
   ]
  },
  {
   "cell_type": "code",
   "execution_count": 2,
   "metadata": {},
   "outputs": [],
   "source": [
    "# Loading the image\n",
    "Original = cv2.imread('poor_quality_text.jpg')\n",
    "\n",
    "I = Original.copy()"
   ]
  },
  {
   "cell_type": "code",
   "execution_count": 18,
   "metadata": {},
   "outputs": [],
   "source": [
    "# Histogram Equalization\n",
    "\n",
    "# First, convert to YUV\n",
    "YUV = cv2.cvtColor(I, cv2.COLOR_BGR2YUV)\n",
    "\n",
    "# Extracting the luminance\n",
    "Y = YUV[:,:,0]\n",
    "\n",
    "# create a CLAHE object (Arguments are optional). Contrast Limited Adaptive Histogram Equalization\n",
    "clahe = cv2.createCLAHE(clipLimit=2.0, tileGridSize=(10,10))\n",
    "cl1 = clahe.apply(Y)"
   ]
  },
  {
   "cell_type": "code",
   "execution_count": 31,
   "metadata": {},
   "outputs": [
    {
     "data": {
      "text/plain": [
       "-1"
      ]
     },
     "execution_count": 31,
     "metadata": {},
     "output_type": "execute_result"
    }
   ],
   "source": [
    "B = cv2.adaptiveThreshold(cl1, maxValue=255,\n",
    "                              adaptiveMethod = cv2.ADAPTIVE_THRESH_GAUSSIAN_C,\n",
    "                              thresholdType = cv2.THRESH_BINARY,\n",
    "                              blockSize = 21, # prev: 21\n",
    "                              C = 20  #21\n",
    "                             )"
   ]
  },
  {
   "cell_type": "code",
   "execution_count": null,
   "metadata": {},
   "outputs": [],
   "source": []
  }
 ],
 "metadata": {
  "kernelspec": {
   "display_name": "Python 3",
   "language": "python",
   "name": "python3"
  },
  "language_info": {
   "codemirror_mode": {
    "name": "ipython",
    "version": 3
   },
   "file_extension": ".py",
   "mimetype": "text/x-python",
   "name": "python",
   "nbconvert_exporter": "python",
   "pygments_lexer": "ipython3",
   "version": "3.8.3"
  }
 },
 "nbformat": 4,
 "nbformat_minor": 4
}
